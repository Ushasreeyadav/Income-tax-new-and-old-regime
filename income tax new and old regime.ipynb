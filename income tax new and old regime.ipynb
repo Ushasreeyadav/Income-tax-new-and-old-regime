{
 "cells": [
  {
   "cell_type": "markdown",
   "id": "0941c340",
   "metadata": {},
   "source": [
    "# How to calculate income tax liability under new tax regime for FY 2022-23"
   ]
  },
  {
   "cell_type": "code",
   "execution_count": 26,
   "id": "fc4809c9",
   "metadata": {},
   "outputs": [
    {
     "name": "stdout",
     "output_type": "stream",
     "text": [
      "Enter your salary:1000000\n",
      "Your tax is  75000.0\n"
     ]
    }
   ],
   "source": [
    "#Calculate income tax (new regime)\n",
    "income = int(input(\"Enter your salary:\"))/100000\n",
    "if income < 2.5:\n",
    "  print(\"No tax\")\n",
    "elif income < 5:\n",
    "  print(\"Your tax is \",0.05*(income - 2.5)*100000)\n",
    "elif income < 7.5:\n",
    "  print(\"Your tax is \",0.1*(income-5)*100000+12500)\n",
    "elif income < 10:\n",
    "  print(\"Your tax is \",0.15*(income-7.5)*100000+37500)\n",
    "elif income < 12.5:\n",
    "  print(\"Your tax is \",0.2*(income-10)*100000+75000)\n",
    "elif income < 15:\n",
    "  print(\"Your tax is \",0.25*(income-12.5)*100000+125000)\n",
    "else:\n",
    "  print(\"Your tax is \",0.3*(income-15)*100000+187500)"
   ]
  },
  {
   "cell_type": "markdown",
   "id": "7f32036f",
   "metadata": {},
   "source": [
    "# How to calculate income tax liability under old tax regime"
   ]
  },
  {
   "cell_type": "code",
   "execution_count": 28,
   "id": "0c4081a2",
   "metadata": {},
   "outputs": [
    {
     "name": "stdout",
     "output_type": "stream",
     "text": [
      "Enter your salary:1000000\n",
      "your tax is 112500.0\n"
     ]
    }
   ],
   "source": [
    "#Calculate income tax (old regime)\n",
    "income = int(input(\"Enter your salary:\"))/100000\n",
    "if income < 2.5:\n",
    "    print(\"no tax\")\n",
    "elif income < 5:\n",
    "    print(\"your tax is\",0.05*(income-2.5)*100000)\n",
    "elif income <10:\n",
    "    print(\"your tax is\",12500+0.2*(income-5)*100000)\n",
    "else:\n",
    "    print(\"your tax is\",112500+0.3*(income-10)*100000)"
   ]
  }
 ],
 "metadata": {
  "kernelspec": {
   "display_name": "Python 3 (ipykernel)",
   "language": "python",
   "name": "python3"
  },
  "language_info": {
   "codemirror_mode": {
    "name": "ipython",
    "version": 3
   },
   "file_extension": ".py",
   "mimetype": "text/x-python",
   "name": "python",
   "nbconvert_exporter": "python",
   "pygments_lexer": "ipython3",
   "version": "3.9.12"
  }
 },
 "nbformat": 4,
 "nbformat_minor": 5
}
